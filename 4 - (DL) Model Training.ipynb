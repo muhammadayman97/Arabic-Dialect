{
  "cells": [
    {
      "cell_type": "markdown",
      "source": [
        "# Checking the GPU availability"
      ],
      "metadata": {
        "id": "uD2O3m0KEANT"
      },
      "id": "uD2O3m0KEANT"
    },
    {
      "cell_type": "code",
      "source": [
        "%tensorflow_version 2.x\n",
        "import tensorflow as tf\n",
        "device_name = tf.test.gpu_device_name()\n",
        "if device_name != '/device:GPU:0':\n",
        "  raise SystemError('GPU device not found')\n",
        "print('Found GPU at: {}'.format(device_name))"
      ],
      "metadata": {
        "colab": {
          "base_uri": "https://localhost:8080/"
        },
        "id": "fCAM_wj_e8__",
        "outputId": "4374ea7a-3ae5-45f9-b8c9-ed844e6b4628"
      },
      "id": "fCAM_wj_e8__",
      "execution_count": 1,
      "outputs": [
        {
          "output_type": "stream",
          "name": "stdout",
          "text": [
            "Found GPU at: /device:GPU:0\n"
          ]
        }
      ]
    },
    {
      "cell_type": "code",
      "source": [
        "import tensorflow as tf\n",
        "print(\"# GPUs Available: \", len(tf.config.experimental.list_physical_devices('GPU')))\n"
      ],
      "metadata": {
        "id": "18ZOyQGuZEDT",
        "colab": {
          "base_uri": "https://localhost:8080/"
        },
        "outputId": "2310e743-9752-4815-9c5c-ba458ed07a7b"
      },
      "id": "18ZOyQGuZEDT",
      "execution_count": 2,
      "outputs": [
        {
          "output_type": "stream",
          "name": "stdout",
          "text": [
            "# GPUs Available:  1\n"
          ]
        }
      ]
    },
    {
      "cell_type": "code",
      "source": [
        "import keras\n",
        "tf.keras.__version__"
      ],
      "metadata": {
        "colab": {
          "base_uri": "https://localhost:8080/",
          "height": 35
        },
        "id": "sqEfPmg4Deaa",
        "outputId": "1d3c6d5e-eff6-46c7-8820-9a775e803358"
      },
      "id": "sqEfPmg4Deaa",
      "execution_count": 35,
      "outputs": [
        {
          "output_type": "execute_result",
          "data": {
            "text/plain": [
              "'2.8.0'"
            ],
            "application/vnd.google.colaboratory.intrinsic+json": {
              "type": "string"
            }
          },
          "metadata": {},
          "execution_count": 35
        }
      ]
    },
    {
      "cell_type": "markdown",
      "source": [
        "# Loading the data "
      ],
      "metadata": {
        "id": "yCBQoEdcEJSy"
      },
      "id": "yCBQoEdcEJSy"
    },
    {
      "cell_type": "code",
      "execution_count": 3,
      "id": "84e5be50",
      "metadata": {
        "id": "84e5be50"
      },
      "outputs": [],
      "source": [
        "# Import everything that will be used\n",
        "from keras.models import Sequential\n",
        "from keras.layers import *\n",
        "from keras.preprocessing.sequence import pad_sequences\n",
        "import gensim\n",
        "import sys\n",
        "import numpy as np\n",
        "import pandas as pd\n",
        "import string\n",
        "import logging\n",
        "import random\n",
        "import matplotlib.pyplot as plt"
      ]
    },
    {
      "cell_type": "code",
      "source": [
        "from google.colab import drive\n",
        "drive.mount('/content/drive')"
      ],
      "metadata": {
        "colab": {
          "base_uri": "https://localhost:8080/"
        },
        "id": "UFI4Qwy1fU1E",
        "outputId": "ee2866a0-b83c-4930-db92-9ed1888a3cea"
      },
      "id": "UFI4Qwy1fU1E",
      "execution_count": 5,
      "outputs": [
        {
          "output_type": "stream",
          "name": "stdout",
          "text": [
            "Mounted at /content/drive\n"
          ]
        }
      ]
    },
    {
      "cell_type": "code",
      "execution_count": 6,
      "id": "eae538ea",
      "metadata": {
        "id": "eae538ea"
      },
      "outputs": [],
      "source": [
        "df = pd.read_csv('/content/drive/MyDrive/aim/2_preprocessed_data.csv')\n",
        "final_df = df[['preprocessed_text', 'dialect']]"
      ]
    },
    {
      "cell_type": "code",
      "execution_count": 7,
      "id": "87e7b118",
      "metadata": {
        "id": "87e7b118"
      },
      "outputs": [],
      "source": [
        "length = []\n",
        "sentences = []\n",
        "for i in final_df.preprocessed_text:\n",
        "    sentences.append(i.split())\n",
        "    length.append(len(i))"
      ]
    },
    {
      "cell_type": "code",
      "execution_count": 8,
      "id": "7bc481c2",
      "metadata": {
        "colab": {
          "base_uri": "https://localhost:8080/"
        },
        "id": "7bc481c2",
        "outputId": "651a7462-674d-4513-e507-9a5037127f44"
      },
      "outputs": [
        {
          "output_type": "stream",
          "name": "stdout",
          "text": [
            "453232\n",
            "453232\n"
          ]
        }
      ],
      "source": [
        "print(len(sentences))\n",
        "print(len(length))  # total no of sentences"
      ]
    },
    {
      "cell_type": "markdown",
      "source": [
        "i will try to guess the appropriate number of max words in a sentence"
      ],
      "metadata": {
        "id": "1oLOD6OnERit"
      },
      "id": "1oLOD6OnERit"
    },
    {
      "cell_type": "code",
      "execution_count": 9,
      "id": "dfd0a825",
      "metadata": {
        "colab": {
          "base_uri": "https://localhost:8080/",
          "height": 295
        },
        "id": "dfd0a825",
        "outputId": "4859aafc-9f2e-4c71-e50b-62445c4943c2"
      },
      "outputs": [
        {
          "output_type": "display_data",
          "data": {
            "text/plain": [
              "<Figure size 432x288 with 1 Axes>"
            ],
            "image/png": "[encoded data removed]"
          },
          "metadata": {
            "needs_background": "light"
          }
        }
      ],
      "source": [
        "\n",
        "# fixed bin size\n",
        "# bins = np.arange(-100, 100, 5) # fixed bin size\n",
        "\n",
        "plt.xlim([min(length), max(length)])\n",
        "\n",
        "plt.hist(length, alpha=0.5)\n",
        "plt.title('Random Gaussian data (fixed bin size)')\n",
        "plt.xlabel('sentence length')\n",
        "plt.ylabel('count')\n",
        "\n",
        "plt.show()"
      ]
    },
    {
      "cell_type": "code",
      "execution_count": 10,
      "id": "6cc86929",
      "metadata": {
        "id": "6cc86929"
      },
      "outputs": [],
      "source": [
        "import tensorflow as tf\n",
        "from keras.preprocessing.text import Tokenizer\n",
        "from keras.preprocessing.sequence import pad_sequences\n",
        "from numpy import array\n",
        "import gensim\n",
        "from gensim.models import KeyedVectors\n",
        "from gensim.models import word2vec"
      ]
    },
    {
      "cell_type": "code",
      "execution_count": 11,
      "id": "28660364",
      "metadata": {
        "id": "28660364"
      },
      "outputs": [],
      "source": [
        "import nltk"
      ]
    },
    {
      "cell_type": "code",
      "source": [
        "# The maximum number of words to be used. (most frequent)\n",
        "MAX_NB_WORDS = 300000\n",
        "# Max number of words in each complaint.\n",
        "MAX_SEQUENCE_LENGTH = 150\n",
        "# This is fixed.\n",
        "EMBEDDING_DIM = 100\n",
        "\n",
        "tokenizer = Tokenizer(num_words=MAX_NB_WORDS, filters='!\"#$%&()*+,-./:;<=>?@[\\]^_`{|}~', lower=True)\n",
        "tokenizer.fit_on_texts(final_df.preprocessed_text.values)\n",
        "word_index = tokenizer.word_index\n",
        "print('Found %s unique tokens.' % len(word_index))"
      ],
      "metadata": {
        "colab": {
          "base_uri": "https://localhost:8080/"
        },
        "id": "hSHxlLG_dQqj",
        "outputId": "4edb8c19-cb14-482c-c02c-2d70066c59df"
      },
      "id": "hSHxlLG_dQqj",
      "execution_count": 12,
      "outputs": [
        {
          "output_type": "stream",
          "name": "stdout",
          "text": [
            "Found 498575 unique tokens.\n"
          ]
        }
      ]
    },
    {
      "cell_type": "code",
      "source": [
        "X = tokenizer.texts_to_sequences(final_df.preprocessed_text.values)\n",
        "X = pad_sequences(X, maxlen=MAX_SEQUENCE_LENGTH)\n",
        "print('Shape of data tensor:', X.shape)"
      ],
      "metadata": {
        "colab": {
          "base_uri": "https://localhost:8080/"
        },
        "id": "WR763G2fd23Z",
        "outputId": "6f1a6f95-c00c-4ddb-fc5d-d7d690efe32e"
      },
      "id": "WR763G2fd23Z",
      "execution_count": 13,
      "outputs": [
        {
          "output_type": "stream",
          "name": "stdout",
          "text": [
            "Shape of data tensor: (453232, 150)\n"
          ]
        }
      ]
    },
    {
      "cell_type": "code",
      "source": [
        "Y = pd.get_dummies(final_df.dialect).values\n",
        "print('Shape of label tensor:', Y.shape)"
      ],
      "metadata": {
        "colab": {
          "base_uri": "https://localhost:8080/"
        },
        "id": "GV_oBH12eB-B",
        "outputId": "e243ec1a-c0de-4ab2-e8df-f6cf7f0185b0"
      },
      "id": "GV_oBH12eB-B",
      "execution_count": 14,
      "outputs": [
        {
          "output_type": "stream",
          "name": "stdout",
          "text": [
            "Shape of label tensor: (453232, 18)\n"
          ]
        }
      ]
    },
    {
      "cell_type": "code",
      "source": [
        "from sklearn.model_selection import train_test_split\n",
        "\n",
        "X_train, X_test, Y_train, Y_test = train_test_split(X,Y, test_size = 0.10, random_state = 42)\n",
        "print(X_train.shape,Y_train.shape)\n",
        "print(X_test.shape,Y_test.shape)"
      ],
      "metadata": {
        "colab": {
          "base_uri": "https://localhost:8080/"
        },
        "id": "UkGPgh6mebzM",
        "outputId": "4411b068-4346-4bda-e315-29327691f7bc"
      },
      "id": "UkGPgh6mebzM",
      "execution_count": 15,
      "outputs": [
        {
          "output_type": "stream",
          "name": "stdout",
          "text": [
            "(407908, 150) (407908, 18)\n",
            "(45324, 150) (45324, 18)\n"
          ]
        }
      ]
    },
    {
      "cell_type": "markdown",
      "source": [
        "Here i tried using Bi-LSTM but found the simple LSTM is slightly better"
      ],
      "metadata": {
        "id": "-VYMf6rdEp8C"
      },
      "id": "-VYMf6rdEp8C"
    },
    {
      "cell_type": "code",
      "source": [
        "model = Sequential()\n",
        "model.add(Embedding(MAX_NB_WORDS, EMBEDDING_DIM, input_length=X.shape[1]))\n",
        "model.add(SpatialDropout1D(0.2))\n",
        "model.add(LSTM(100, dropout=0.2, recurrent_dropout=0.2))\n",
        "# model.add(Bidirectional(LSTM(100, dropout=0.2, recurrent_dropout=0.2)))\n",
        "\n",
        "model.add(Dense(18, activation='softmax'))\n",
        "model.compile(loss='categorical_crossentropy', optimizer='adam', metrics=['accuracy'])\n",
        "print(model.summary())"
      ],
      "metadata": {
        "colab": {
          "base_uri": "https://localhost:8080/"
        },
        "id": "uv0TVWBjehiv",
        "outputId": "0df28df4-2803-4d13-c6bb-bac87db7dfda"
      },
      "id": "uv0TVWBjehiv",
      "execution_count": 19,
      "outputs": [
        {
          "output_type": "stream",
          "name": "stdout",
          "text": [
            "WARNING:tensorflow:Layer lstm_1 will not use cuDNN kernels since it doesn't meet the criteria. It will use a generic GPU kernel as fallback when running on GPU.\n",
            "Model: \"sequential_1\"\n",
            "_________________________________________________________________\n",
            " Layer (type)                Output Shape              Param #   \n",
            "=================================================================\n",
            " embedding_1 (Embedding)     (None, 150, 100)          30000000  \n",
            "                                                                 \n",
            " spatial_dropout1d_1 (Spatia  (None, 150, 100)         0         \n",
            " lDropout1D)                                                     \n",
            "                                                                 \n",
            " lstm_1 (LSTM)               (None, 100)               80400     \n",
            "                                                                 \n",
            " dense_1 (Dense)             (None, 18)                1818      \n",
            "                                                                 \n",
            "=================================================================\n",
            "Total params: 30,082,218\n",
            "Trainable params: 30,082,218\n",
            "Non-trainable params: 0\n",
            "_________________________________________________________________\n",
            "None\n"
          ]
        }
      ]
    },
    {
      "cell_type": "code",
      "source": [
        "#saving the checkpoints\n",
        "from keras.callbacks import ModelCheckpoint\n",
        "\n",
        "# This checkpoint object will store the model parameters\n",
        "# in the file \"weights.hdf5\"\n",
        "checkpoint = ModelCheckpoint('/content/weights.hdf5', monitor='val_loss',\n",
        "save_best_only=True)\n",
        "# Store in a list to be used during training\n",
        "callbacks_list = [checkpoint]\n",
        "# Fit the model on a training set,\n"
      ],
      "metadata": {
        "id": "Cp7KP25_98zB"
      },
      "id": "Cp7KP25_98zB",
      "execution_count": 20,
      "outputs": []
    },
    {
      "cell_type": "code",
      "source": [
        "# now fitting the model\n",
        "# the batch size = 400 by experimenting on the first epoch\n",
        "epochs = 10\n",
        "batch_size = 400\n",
        "from keras.callbacks import EarlyStopping\n",
        "\n",
        "with tf.device(device_name):\n",
        "  history = model.fit(X_train, Y_train, \n",
        "                      epochs=epochs, \n",
        "                      batch_size=batch_size,\n",
        "                      validation_split=0.1,\n",
        "                      callbacks=[EarlyStopping(monitor='val_loss', patience=3, min_delta=0.0001), checkpoint])"
      ],
      "metadata": {
        "colab": {
          "base_uri": "https://localhost:8080/"
        },
        "id": "MERmtscVemCy",
        "outputId": "297de854-f1f6-4588-a072-bdbd8972e80f"
      },
      "id": "MERmtscVemCy",
      "execution_count": 21,
      "outputs": [
        {
          "output_type": "stream",
          "name": "stdout",
          "text": [
            "Epoch 1/10\n",
            "918/918 [==============================] - 1020s 1s/step - loss: 1.9801 - accuracy: 0.3712 - val_loss: 1.5843 - val_accuracy: 0.5038\n",
            "Epoch 2/10\n",
            "918/918 [==============================] - 976s 1s/step - loss: 1.2817 - accuracy: 0.5985 - val_loss: 1.4782 - val_accuracy: 0.5466\n",
            "Epoch 3/10\n",
            "918/918 [==============================] - 994s 1s/step - loss: 0.8983 - accuracy: 0.7233 - val_loss: 1.5729 - val_accuracy: 0.5408\n",
            "Epoch 4/10\n",
            "918/918 [==============================] - 991s 1s/step - loss: 0.6597 - accuracy: 0.7979 - val_loss: 1.7400 - val_accuracy: 0.5326\n",
            "Epoch 5/10\n",
            "918/918 [==============================] - 969s 1s/step - loss: 0.5168 - accuracy: 0.8410 - val_loss: 1.9365 - val_accuracy: 0.5247\n"
          ]
        }
      ]
    },
    {
      "cell_type": "code",
      "source": [
        "# evalute the model \n",
        "accr = model.evaluate(X_test,Y_test)\n",
        "print('Test set\\n  Loss: {:0.3f}\\n  Accuracy: {:0.3f}'.format(accr[0],accr[1]))"
      ],
      "metadata": {
        "colab": {
          "base_uri": "https://localhost:8080/"
        },
        "id": "fFrP-5OIe0u9",
        "outputId": "95d5eee9-2123-4c33-ff8e-68ac08b31009"
      },
      "id": "fFrP-5OIe0u9",
      "execution_count": 22,
      "outputs": [
        {
          "output_type": "stream",
          "name": "stdout",
          "text": [
            "1417/1417 [==============================] - 102s 72ms/step - loss: 1.9544 - accuracy: 0.5216\n",
            "Test set\n",
            "  Loss: 1.954\n",
            "  Accuracy: 0.522\n"
          ]
        }
      ]
    },
    {
      "cell_type": "code",
      "source": [
        "plt.title('Loss')\n",
        "plt.plot(history.history['loss'], label='train')\n",
        "plt.plot(history.history['val_loss'], label='test')\n",
        "plt.legend()\n",
        "plt.show();"
      ],
      "metadata": {
        "colab": {
          "base_uri": "https://localhost:8080/",
          "height": 281
        },
        "id": "fuDZXWUy12u6",
        "outputId": "573ef0d9-3090-4f04-d6be-fa7d3dc280d6"
      },
      "id": "fuDZXWUy12u6",
      "execution_count": 23,
      "outputs": [
        {
          "output_type": "display_data",
          "data": {
            "text/plain": [
              "<Figure size 432x288 with 1 Axes>"
            ],
            "image/png": "[encoded data removed]"
          },
          "metadata": {
            "needs_background": "light"
          }
        }
      ]
    },
    {
      "cell_type": "code",
      "source": [
        "plt.title('Accuracy')\n",
        "plt.plot(history.history['accuracy'], label='train')\n",
        "plt.plot(history.history['val_accuracy'], label='test')\n",
        "plt.legend()\n",
        "plt.show();"
      ],
      "metadata": {
        "colab": {
          "base_uri": "https://localhost:8080/",
          "height": 281
        },
        "id": "vEPIOdIZ2QvU",
        "outputId": "352645a8-e4bc-4e03-e2a7-1cb1bdfe7948"
      },
      "id": "vEPIOdIZ2QvU",
      "execution_count": 24,
      "outputs": [
        {
          "output_type": "display_data",
          "data": {
            "text/plain": [
              "<Figure size 432x288 with 1 Axes>"
            ],
            "image/png": "[encoded data removed]"
          },
          "metadata": {
            "needs_background": "light"
          }
        }
      ]
    },
    {
      "cell_type": "code",
      "source": [
        "from sklearn import preprocessing\n",
        "\n",
        "label_encoder = preprocessing.LabelEncoder()\n",
        "le= label_encoder.fit_transform(final_df['dialect'])\n",
        "final_df['encoded'] = le"
      ],
      "metadata": {
        "colab": {
          "base_uri": "https://localhost:8080/"
        },
        "id": "TfxiSThmOyd5",
        "outputId": "e8e1749b-c1c8-4e53-c682-7dc12cec9dcd"
      },
      "id": "TfxiSThmOyd5",
      "execution_count": 25,
      "outputs": [
        {
          "output_type": "stream",
          "name": "stderr",
          "text": [
            "/usr/local/lib/python3.7/dist-packages/ipykernel_launcher.py:5: SettingWithCopyWarning: \n",
            "A value is trying to be set on a copy of a slice from a DataFrame.\n",
            "Try using .loc[row_indexer,col_indexer] = value instead\n",
            "\n",
            "See the caveats in the documentation: https://pandas.pydata.org/pandas-docs/stable/user_guide/indexing.html#returning-a-view-versus-a-copy\n",
            "  \"\"\"\n"
          ]
        }
      ]
    },
    {
      "cell_type": "markdown",
      "source": [
        "# Saving the model"
      ],
      "metadata": {
        "id": "s2qU8Wq1D4o6"
      },
      "id": "s2qU8Wq1D4o6"
    },
    {
      "cell_type": "code",
      "source": [
        "model_json = model.to_json()\n",
        "with open(\"model.json\", \"w\") as json_file:\n",
        "    json_file.write(model_json)\n",
        "# serialize weights to HDF5\n",
        "model.save_weights(\"model.h5\")\n",
        "print(\"Saved model to disk\")"
      ],
      "metadata": {
        "colab": {
          "base_uri": "https://localhost:8080/"
        },
        "id": "oMsFcju0VTek",
        "outputId": "4122fbb1-5bd4-4371-8ed9-2170024480a9"
      },
      "id": "oMsFcju0VTek",
      "execution_count": 28,
      "outputs": [
        {
          "output_type": "stream",
          "name": "stdout",
          "text": [
            "Saved model to disk\n"
          ]
        }
      ]
    },
    {
      "cell_type": "code",
      "source": [
        "import pickle\n",
        "\n",
        "# saving\n",
        "with open('tokenizer.pkl', 'wb') as handle:\n",
        "    pickle.dump(tokenizer, handle, protocol=pickle.HIGHEST_PROTOCOL)\n",
        "\n",
        "\n",
        "with open('label_encoder.pkl', 'wb') as handle:\n",
        "    pickle.dump(label_encoder,handle)"
      ],
      "metadata": {
        "id": "QiyP_6grVTgz"
      },
      "id": "QiyP_6grVTgz",
      "execution_count": 29,
      "outputs": []
    },
    {
      "cell_type": "markdown",
      "source": [
        "now let's test the model"
      ],
      "metadata": {
        "id": "KksPpfZ0Fl2K"
      },
      "id": "KksPpfZ0Fl2K"
    },
    {
      "cell_type": "code",
      "source": [
        "def test(x):\n",
        "  new_complaint = [x]\n",
        "  seq = tokenizer.texts_to_sequences(new_complaint)\n",
        "  padded = pad_sequences(seq, maxlen=MAX_SEQUENCE_LENGTH)\n",
        "  pred = model.predict(padded)\n",
        "  # labels = target_encoded[1]\n",
        "  # print(pred, labels[np.argmax(pred)])\n",
        "  prediction = final_df[final_df['encoded'] == int(np.argmax(pred))]['dialect'].values[0]\n",
        "  print(x, ': ', prediction)\n",
        "\n",
        "test('ياسطا'), test('بزاف'), test('هلا فيك'), test('برشا'), test('زول'), test('مزيان')"
      ],
      "metadata": {
        "colab": {
          "base_uri": "https://localhost:8080/"
        },
        "id": "rHPC522g2QzJ",
        "outputId": "3146849b-f690-4fbd-fcbb-5f461ed80b83"
      },
      "id": "rHPC522g2QzJ",
      "execution_count": 48,
      "outputs": [
        {
          "output_type": "stream",
          "name": "stdout",
          "text": [
            "ياسطا :  EG\n",
            "بزاف :  DZ\n",
            "هلا فيك :  KW\n",
            "برشا :  TN\n",
            "زول :  SD\n",
            "مزيان :  MA\n"
          ]
        },
        {
          "output_type": "execute_result",
          "data": {
            "text/plain": [
              "(None, None, None, None, None, None)"
            ]
          },
          "metadata": {},
          "execution_count": 48
        }
      ]
    },
    {
      "cell_type": "markdown",
      "source": [
        "i think it works well tell now :)"
      ],
      "metadata": {
        "id": "NBeYo_UHHZTW"
      },
      "id": "NBeYo_UHHZTW"
    },
    {
      "cell_type": "markdown",
      "source": [
        "# Last Thoughts"
      ],
      "metadata": {
        "id": "_-3-0rbUHsr5"
      },
      "id": "_-3-0rbUHsr5"
    },
    {
      "cell_type": "markdown",
      "source": [
        "i think it works well because these the tested words are well known in their countries so the next step it to try testing the model on complete sentences and also on sentences that could be classified with more than one country by human"
      ],
      "metadata": {
        "id": "cncsltc1H3Bg"
      },
      "id": "cncsltc1H3Bg"
    },
    {
      "cell_type": "markdown",
      "source": [
        "Salam 👋"
      ],
      "metadata": {
        "id": "n_pw8oIZIi8s"
      },
      "id": "n_pw8oIZIi8s"
    },
    {
      "cell_type": "code",
      "source": [
        ""
      ],
      "metadata": {
        "id": "3YFS2mTQIhVs"
      },
      "id": "3YFS2mTQIhVs",
      "execution_count": null,
      "outputs": []
    }
  ],
  "metadata": {
    "kernelspec": {
      "display_name": "Python 3 (ipykernel)",
      "language": "python",
      "name": "python3"
    },
    "language_info": {
      "codemirror_mode": {
        "name": "ipython",
        "version": 3
      },
      "file_extension": ".py",
      "mimetype": "text/x-python",
      "name": "python",
      "nbconvert_exporter": "python",
      "pygments_lexer": "ipython3",
      "version": "3.9.7"
    },
    "colab": {
      "name": "4- (DL) Model Training.ipynb",
      "provenance": [],
      "collapsed_sections": []
    },
    "accelerator": "GPU"
  },
  "nbformat": 4,
  "nbformat_minor": 5
}