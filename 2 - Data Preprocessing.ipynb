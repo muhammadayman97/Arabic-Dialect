{
 "cells": [
  {
   "cell_type": "code",
   "execution_count": 1,
   "id": "93f977f7",
   "metadata": {},
   "outputs": [],
   "source": [
    "import pandas as pd\n",
    "import numpy as np\n",
    "import seaborn as sns\n",
    "import re\n",
    "import nltk\n",
    "import pyarabic.araby as araby\n"
   ]
  },
  {
   "cell_type": "code",
   "execution_count": 2,
   "id": "f866f0a2",
   "metadata": {},
   "outputs": [],
   "source": [
    "df = pd.read_csv(r'C:\\Users\\midom\\OneDrive\\Desktop\\aim tech\\1_retrieved_data.csv')"
   ]
  },
  {
   "cell_type": "code",
   "execution_count": 3,
   "id": "ffb44280",
   "metadata": {},
   "outputs": [
    {
     "data": {
      "text/html": [
       "<div>\n",
       "<style scoped>\n",
       "    .dataframe tbody tr th:only-of-type {\n",
       "        vertical-align: middle;\n",
       "    }\n",
       "\n",
       "    .dataframe tbody tr th {\n",
       "        vertical-align: top;\n",
       "    }\n",
       "\n",
       "    .dataframe thead th {\n",
       "        text-align: right;\n",
       "    }\n",
       "</style>\n",
       "<table border=\"1\" class=\"dataframe\">\n",
       "  <thead>\n",
       "    <tr style=\"text-align: right;\">\n",
       "      <th></th>\n",
       "      <th>Unnamed: 0</th>\n",
       "      <th>id_original_df</th>\n",
       "      <th>dialect</th>\n",
       "      <th>id_retrieved_df</th>\n",
       "      <th>text</th>\n",
       "    </tr>\n",
       "  </thead>\n",
       "  <tbody>\n",
       "    <tr>\n",
       "      <th>0</th>\n",
       "      <td>0</td>\n",
       "      <td>1175358310087892992</td>\n",
       "      <td>IQ</td>\n",
       "      <td>1175358310087892992</td>\n",
       "      <td>@Nw8ieJUwaCAAreT لكن بالنهاية .. ينتفض .. يغير .</td>\n",
       "    </tr>\n",
       "    <tr>\n",
       "      <th>1</th>\n",
       "      <td>1</td>\n",
       "      <td>1175416117793349632</td>\n",
       "      <td>IQ</td>\n",
       "      <td>1175416117793349632</td>\n",
       "      <td>@7zNqXP0yrODdRjK يعني هذا محسوب على البشر .. ح...</td>\n",
       "    </tr>\n",
       "    <tr>\n",
       "      <th>2</th>\n",
       "      <td>2</td>\n",
       "      <td>1175450108898565888</td>\n",
       "      <td>IQ</td>\n",
       "      <td>1175450108898565888</td>\n",
       "      <td>@KanaanRema مبين من كلامه خليجي</td>\n",
       "    </tr>\n",
       "    <tr>\n",
       "      <th>3</th>\n",
       "      <td>3</td>\n",
       "      <td>1175471073770573824</td>\n",
       "      <td>IQ</td>\n",
       "      <td>1175471073770573824</td>\n",
       "      <td>@HAIDER76128900 يسلملي مرورك وروحك الحلوه💐</td>\n",
       "    </tr>\n",
       "    <tr>\n",
       "      <th>4</th>\n",
       "      <td>4</td>\n",
       "      <td>1175496913145217024</td>\n",
       "      <td>IQ</td>\n",
       "      <td>1175496913145217024</td>\n",
       "      <td>@hmo2406 وين هل الغيبه  اخ محمد 🌸🌺</td>\n",
       "    </tr>\n",
       "  </tbody>\n",
       "</table>\n",
       "</div>"
      ],
      "text/plain": [
       "   Unnamed: 0       id_original_df dialect      id_retrieved_df  \\\n",
       "0           0  1175358310087892992      IQ  1175358310087892992   \n",
       "1           1  1175416117793349632      IQ  1175416117793349632   \n",
       "2           2  1175450108898565888      IQ  1175450108898565888   \n",
       "3           3  1175471073770573824      IQ  1175471073770573824   \n",
       "4           4  1175496913145217024      IQ  1175496913145217024   \n",
       "\n",
       "                                                text  \n",
       "0   @Nw8ieJUwaCAAreT لكن بالنهاية .. ينتفض .. يغير .  \n",
       "1  @7zNqXP0yrODdRjK يعني هذا محسوب على البشر .. ح...  \n",
       "2                    @KanaanRema مبين من كلامه خليجي  \n",
       "3         @HAIDER76128900 يسلملي مرورك وروحك الحلوه💐  \n",
       "4                 @hmo2406 وين هل الغيبه  اخ محمد 🌸🌺  "
      ]
     },
     "execution_count": 3,
     "metadata": {},
     "output_type": "execute_result"
    }
   ],
   "source": [
    "df.head()"
   ]
  },
  {
   "cell_type": "code",
   "execution_count": 4,
   "id": "16714975",
   "metadata": {},
   "outputs": [
    {
     "data": {
      "text/plain": [
       "0"
      ]
     },
     "execution_count": 4,
     "metadata": {},
     "output_type": "execute_result"
    }
   ],
   "source": [
    "len(df[df.duplicated()])"
   ]
  },
  {
   "cell_type": "code",
   "execution_count": 5,
   "id": "f0c40b2a",
   "metadata": {},
   "outputs": [
    {
     "data": {
      "text/plain": [
       "<AxesSubplot:xlabel='dialect', ylabel='count'>"
      ]
     },
     "execution_count": 5,
     "metadata": {},
     "output_type": "execute_result"
    },
    {
     "data": {
      "image/png": "[encoded data removed]",
      "text/plain": [
       "<Figure size 432x288 with 1 Axes>"
      ]
     },
     "metadata": {
      "needs_background": "light"
     },
     "output_type": "display_data"
    }
   ],
   "source": [
    "sns.countplot(data = df, x = 'dialect')"
   ]
  },
  {
   "cell_type": "code",
   "execution_count": 6,
   "id": "9f71734b",
   "metadata": {},
   "outputs": [
    {
     "name": "stderr",
     "output_type": "stream",
     "text": [
      "[nltk_data] Downloading package stopwords to\n",
      "[nltk_data]     C:\\Users\\midom\\AppData\\Roaming\\nltk_data...\n",
      "[nltk_data]   Package stopwords is already up-to-date!\n"
     ]
    },
    {
     "data": {
      "text/plain": [
       "True"
      ]
     },
     "execution_count": 6,
     "metadata": {},
     "output_type": "execute_result"
    }
   ],
   "source": [
    "import nltk\n",
    "nltk.download('stopwords')"
   ]
  },
  {
   "cell_type": "code",
   "execution_count": 7,
   "id": "a9e8daae",
   "metadata": {},
   "outputs": [
    {
     "name": "stderr",
     "output_type": "stream",
     "text": [
      "[nltk_data] Downloading package punkt to\n",
      "[nltk_data]     C:\\Users\\midom\\AppData\\Roaming\\nltk_data...\n",
      "[nltk_data]   Package punkt is already up-to-date!\n"
     ]
    },
    {
     "data": {
      "text/plain": [
       "True"
      ]
     },
     "execution_count": 7,
     "metadata": {},
     "output_type": "execute_result"
    }
   ],
   "source": [
    "nltk.download(\"punkt\")"
   ]
  },
  {
   "cell_type": "code",
   "execution_count": 8,
   "id": "775df6f6",
   "metadata": {},
   "outputs": [],
   "source": [
    "from nltk.corpus import stopwords\n",
    "\n",
    "stopwords_list = stopwords.words('arabic')"
   ]
  },
  {
   "cell_type": "code",
   "execution_count": null,
   "id": "b161e6d0",
   "metadata": {},
   "outputs": [],
   "source": []
  },
  {
   "cell_type": "code",
   "execution_count": null,
   "id": "8b0ba8d5",
   "metadata": {},
   "outputs": [],
   "source": []
  },
  {
   "cell_type": "code",
   "execution_count": 9,
   "id": "1deb4322",
   "metadata": {},
   "outputs": [
    {
     "name": "stdout",
     "output_type": "stream",
     "text": [
      "@hmo2406 وين هل الغيبه اخ محمد \n"
     ]
    }
   ],
   "source": [
    "#this function is for remove emojis\n",
    "def deEmojify(text):\n",
    "    regrex_pattern = re.compile(pattern = \"[\"\n",
    "        u\"\\U0001F600-\\U0001F64F\"  # emoticons\n",
    "        u\"\\U0001F300-\\U0001F5FF\"  # symbols & pictographs\n",
    "        u\"\\U0001F680-\\U0001F6FF\"  # transport & map symbols\n",
    "        u\"\\U0001F1E0-\\U0001F1FF\"  # flags (iOS)\n",
    "                           \"]+\", flags = re.UNICODE)\n",
    "    return regrex_pattern.sub(r'',text) \n",
    "\n",
    "text = '@hmo2406 وين هل الغيبه اخ محمد 🌸🌺'\n",
    "print(deEmojify(text))"
   ]
  },
  {
   "cell_type": "code",
   "execution_count": 75,
   "id": "cb970f66",
   "metadata": {},
   "outputs": [],
   "source": [
    "def Preprocessing(text):\n",
    "    \n",
    "    # removing emojis\n",
    "    text = deEmojify(text)  \n",
    "    \n",
    "    # some hashtags have important words so i tried to clean them \n",
    "    hashing = []\n",
    "    for i in text.split():\n",
    "        if i.startswith('#')==True:\n",
    "            hashing.append(i.strip('#').replace('_', ' ').strip())\n",
    "        else:\n",
    "            hashing.append(i)\n",
    "        text = ' '.join(hashing)\n",
    "        \n",
    "    # removing all usernames that starts with \"@\"\n",
    "    text = ' '.join(word for word in text.split() if word.startswith('@')!=True) \n",
    "    \n",
    "    # removing all urls that starts with \"https\"\n",
    "    text = ' '.join(word for word in text.split() if word.startswith('https')!=True) \n",
    "    \n",
    "    # removing all space and \"\\n\"\n",
    "    text = text.replace('\\n', ' ')\n",
    "    text = re.sub('\\s+', ' ', text)  #Remove extra space and tabs\n",
    "    \n",
    "    # some words have tashkeel(diacritics) so i tried to remove them with \"pyarabic\" library\n",
    "    text = araby.strip_diacritics(text)\n",
    "    \n",
    "    # remove any non-alphapetic tokens\n",
    "    words = nltk.word_tokenize(text)\n",
    "    new_text= ' '.join([word for word in words if word.isalpha()])\n",
    "    \n",
    "    # some sentences are seen as one token because they need to be splited with '،' \n",
    "    new_text = new_text.split('،')\n",
    "    new_text= ' '.join([word for word in words if word.isalpha()])\n",
    "    \n",
    "    # remove any space at the start and the end of a sentence\n",
    "    new_text = new_text.strip()\n",
    "    \n",
    "    # check if there are any words with uppercase to convert them to lowercase\n",
    "    new_text = new_text.lower()\n",
    "    \n",
    "    return new_text\n",
    "\n"
   ]
  },
  {
   "cell_type": "code",
   "execution_count": 76,
   "id": "a28c4a6f",
   "metadata": {},
   "outputs": [],
   "source": [
    "preprocessed_texts = []\n",
    "for i in df['text']:\n",
    "    preprocessed_texts.append(Preprocessing(i))"
   ]
  },
  {
   "cell_type": "code",
   "execution_count": 77,
   "id": "64f64f92",
   "metadata": {},
   "outputs": [],
   "source": [
    "df['preprocessed_text'] = preprocessed_texts"
   ]
  },
  {
   "cell_type": "code",
   "execution_count": 78,
   "id": "aad501e3",
   "metadata": {},
   "outputs": [
    {
     "data": {
      "text/html": [
       "<div>\n",
       "<style scoped>\n",
       "    .dataframe tbody tr th:only-of-type {\n",
       "        vertical-align: middle;\n",
       "    }\n",
       "\n",
       "    .dataframe tbody tr th {\n",
       "        vertical-align: top;\n",
       "    }\n",
       "\n",
       "    .dataframe thead th {\n",
       "        text-align: right;\n",
       "    }\n",
       "</style>\n",
       "<table border=\"1\" class=\"dataframe\">\n",
       "  <thead>\n",
       "    <tr style=\"text-align: right;\">\n",
       "      <th></th>\n",
       "      <th>Unnamed: 0</th>\n",
       "      <th>id_original_df</th>\n",
       "      <th>dialect</th>\n",
       "      <th>id_retrieved_df</th>\n",
       "      <th>text</th>\n",
       "      <th>preprocessed_text</th>\n",
       "    </tr>\n",
       "  </thead>\n",
       "  <tbody>\n",
       "    <tr>\n",
       "      <th>0</th>\n",
       "      <td>0</td>\n",
       "      <td>1175358310087892992</td>\n",
       "      <td>IQ</td>\n",
       "      <td>1175358310087892992</td>\n",
       "      <td>@Nw8ieJUwaCAAreT لكن بالنهاية .. ينتفض .. يغير .</td>\n",
       "      <td>لكن بالنهاية ينتفض يغير</td>\n",
       "    </tr>\n",
       "    <tr>\n",
       "      <th>1</th>\n",
       "      <td>1</td>\n",
       "      <td>1175416117793349632</td>\n",
       "      <td>IQ</td>\n",
       "      <td>1175416117793349632</td>\n",
       "      <td>@7zNqXP0yrODdRjK يعني هذا محسوب على البشر .. ح...</td>\n",
       "      <td>يعني هذا محسوب على البشر حيونه ووحشيه وتطلبون ...</td>\n",
       "    </tr>\n",
       "    <tr>\n",
       "      <th>2</th>\n",
       "      <td>2</td>\n",
       "      <td>1175450108898565888</td>\n",
       "      <td>IQ</td>\n",
       "      <td>1175450108898565888</td>\n",
       "      <td>@KanaanRema مبين من كلامه خليجي</td>\n",
       "      <td>مبين من كلامه خليجي</td>\n",
       "    </tr>\n",
       "    <tr>\n",
       "      <th>3</th>\n",
       "      <td>3</td>\n",
       "      <td>1175471073770573824</td>\n",
       "      <td>IQ</td>\n",
       "      <td>1175471073770573824</td>\n",
       "      <td>@HAIDER76128900 يسلملي مرورك وروحك الحلوه💐</td>\n",
       "      <td>يسلملي مرورك وروحك الحلوه</td>\n",
       "    </tr>\n",
       "    <tr>\n",
       "      <th>4</th>\n",
       "      <td>4</td>\n",
       "      <td>1175496913145217024</td>\n",
       "      <td>IQ</td>\n",
       "      <td>1175496913145217024</td>\n",
       "      <td>@hmo2406 وين هل الغيبه  اخ محمد 🌸🌺</td>\n",
       "      <td>وين هل الغيبه اخ محمد</td>\n",
       "    </tr>\n",
       "  </tbody>\n",
       "</table>\n",
       "</div>"
      ],
      "text/plain": [
       "   Unnamed: 0       id_original_df dialect      id_retrieved_df  \\\n",
       "0           0  1175358310087892992      IQ  1175358310087892992   \n",
       "1           1  1175416117793349632      IQ  1175416117793349632   \n",
       "2           2  1175450108898565888      IQ  1175450108898565888   \n",
       "3           3  1175471073770573824      IQ  1175471073770573824   \n",
       "4           4  1175496913145217024      IQ  1175496913145217024   \n",
       "\n",
       "                                                text  \\\n",
       "0   @Nw8ieJUwaCAAreT لكن بالنهاية .. ينتفض .. يغير .   \n",
       "1  @7zNqXP0yrODdRjK يعني هذا محسوب على البشر .. ح...   \n",
       "2                    @KanaanRema مبين من كلامه خليجي   \n",
       "3         @HAIDER76128900 يسلملي مرورك وروحك الحلوه💐   \n",
       "4                 @hmo2406 وين هل الغيبه  اخ محمد 🌸🌺   \n",
       "\n",
       "                                   preprocessed_text  \n",
       "0                            لكن بالنهاية ينتفض يغير  \n",
       "1  يعني هذا محسوب على البشر حيونه ووحشيه وتطلبون ...  \n",
       "2                                مبين من كلامه خليجي  \n",
       "3                          يسلملي مرورك وروحك الحلوه  \n",
       "4                              وين هل الغيبه اخ محمد  "
      ]
     },
     "execution_count": 78,
     "metadata": {},
     "output_type": "execute_result"
    }
   ],
   "source": [
    "df.head()"
   ]
  },
  {
   "cell_type": "code",
   "execution_count": 79,
   "id": "35ea09a5",
   "metadata": {},
   "outputs": [
    {
     "data": {
      "text/plain": [
       "Unnamed: 0           0\n",
       "id_original_df       0\n",
       "dialect              0\n",
       "id_retrieved_df      0\n",
       "text                 0\n",
       "preprocessed_text    0\n",
       "dtype: int64"
      ]
     },
     "execution_count": 79,
     "metadata": {},
     "output_type": "execute_result"
    }
   ],
   "source": [
    "df.isnull().sum()"
   ]
  },
  {
   "cell_type": "code",
   "execution_count": null,
   "id": "12f53750",
   "metadata": {},
   "outputs": [],
   "source": []
  },
  {
   "cell_type": "markdown",
   "id": "d4e5a3a7",
   "metadata": {},
   "source": [
    "### Now let's see how the output looks like"
   ]
  },
  {
   "cell_type": "code",
   "execution_count": 80,
   "id": "fe85edb6",
   "metadata": {},
   "outputs": [
    {
     "data": {
      "text/plain": [
       "'يعني هذا محسوب على البشر حيونه ووحشيه وتطلبون من الغرب يحترمكم ويؤمن بدينكم ولاينعتكم بالإرهاب'"
      ]
     },
     "execution_count": 80,
     "metadata": {},
     "output_type": "execute_result"
    }
   ],
   "source": [
    "df.preprocessed_text[1]"
   ]
  },
  {
   "cell_type": "code",
   "execution_count": 81,
   "id": "7c366da0",
   "metadata": {},
   "outputs": [
    {
     "data": {
      "text/plain": [
       "'@7zNqXP0yrODdRjK يعني هذا محسوب على البشر .. حيونه ووحشيه .. وتطلبون من الغرب يحترمكم ويؤمن بدينكم ولاينعتكم بالإرهاب ..'"
      ]
     },
     "execution_count": 81,
     "metadata": {},
     "output_type": "execute_result"
    }
   ],
   "source": [
    "df.text[1]"
   ]
  },
  {
   "cell_type": "code",
   "execution_count": null,
   "id": "acde5ac9",
   "metadata": {},
   "outputs": [],
   "source": []
  },
  {
   "cell_type": "code",
   "execution_count": 83,
   "id": "266726e1",
   "metadata": {},
   "outputs": [
    {
     "data": {
      "text/plain": [
       "Unnamed: 0           0\n",
       "id_original_df       0\n",
       "dialect              0\n",
       "id_retrieved_df      0\n",
       "text                 0\n",
       "preprocessed_text    0\n",
       "dtype: int64"
      ]
     },
     "execution_count": 83,
     "metadata": {},
     "output_type": "execute_result"
    }
   ],
   "source": [
    "df.isnull().sum()"
   ]
  },
  {
   "cell_type": "code",
   "execution_count": 84,
   "id": "f7b2f96a",
   "metadata": {},
   "outputs": [
    {
     "data": {
      "text/plain": [
       "0"
      ]
     },
     "execution_count": 84,
     "metadata": {},
     "output_type": "execute_result"
    }
   ],
   "source": [
    "len(df[df['preprocessed_text'] == \"\"])"
   ]
  },
  {
   "cell_type": "code",
   "execution_count": 85,
   "id": "7b923496",
   "metadata": {},
   "outputs": [
    {
     "data": {
      "text/html": [
       "<div>\n",
       "<style scoped>\n",
       "    .dataframe tbody tr th:only-of-type {\n",
       "        vertical-align: middle;\n",
       "    }\n",
       "\n",
       "    .dataframe tbody tr th {\n",
       "        vertical-align: top;\n",
       "    }\n",
       "\n",
       "    .dataframe thead th {\n",
       "        text-align: right;\n",
       "    }\n",
       "</style>\n",
       "<table border=\"1\" class=\"dataframe\">\n",
       "  <thead>\n",
       "    <tr style=\"text-align: right;\">\n",
       "      <th></th>\n",
       "      <th>Unnamed: 0</th>\n",
       "      <th>id_original_df</th>\n",
       "      <th>dialect</th>\n",
       "      <th>id_retrieved_df</th>\n",
       "      <th>text</th>\n",
       "      <th>preprocessed_text</th>\n",
       "    </tr>\n",
       "  </thead>\n",
       "  <tbody>\n",
       "  </tbody>\n",
       "</table>\n",
       "</div>"
      ],
      "text/plain": [
       "Empty DataFrame\n",
       "Columns: [Unnamed: 0, id_original_df, dialect, id_retrieved_df, text, preprocessed_text]\n",
       "Index: []"
      ]
     },
     "execution_count": 85,
     "metadata": {},
     "output_type": "execute_result"
    }
   ],
   "source": [
    "df[df['preprocessed_text'] == \"\"]"
   ]
  },
  {
   "cell_type": "code",
   "execution_count": 86,
   "id": "e27140bc",
   "metadata": {},
   "outputs": [],
   "source": [
    "df = df[df['preprocessed_text'] != \"\"]"
   ]
  },
  {
   "cell_type": "markdown",
   "id": "659825e4",
   "metadata": {},
   "source": [
    "### let's also check if there are any sentence with length lower than 3 words ot remove it"
   ]
  },
  {
   "cell_type": "code",
   "execution_count": 87,
   "id": "49dfa7e0",
   "metadata": {},
   "outputs": [
    {
     "data": {
      "text/plain": [
       "0"
      ]
     },
     "execution_count": 87,
     "metadata": {},
     "output_type": "execute_result"
    }
   ],
   "source": [
    "len(df[df['preprocessed_text'].str.split().str.len() < 3])"
   ]
  },
  {
   "cell_type": "code",
   "execution_count": 88,
   "id": "c2c4c8bc",
   "metadata": {},
   "outputs": [
    {
     "data": {
      "text/plain": [
       "(453232, 6)"
      ]
     },
     "execution_count": 88,
     "metadata": {},
     "output_type": "execute_result"
    }
   ],
   "source": [
    "df.shape"
   ]
  },
  {
   "cell_type": "code",
   "execution_count": 89,
   "id": "d5251ffb",
   "metadata": {},
   "outputs": [],
   "source": [
    "df = df[df['preprocessed_text'].str.split().str.len() > 2]"
   ]
  },
  {
   "cell_type": "code",
   "execution_count": 90,
   "id": "177fa096",
   "metadata": {},
   "outputs": [
    {
     "data": {
      "text/plain": [
       "(453232, 6)"
      ]
     },
     "execution_count": 90,
     "metadata": {},
     "output_type": "execute_result"
    }
   ],
   "source": [
    "df.shape"
   ]
  },
  {
   "cell_type": "code",
   "execution_count": 91,
   "id": "8f4c94cf",
   "metadata": {},
   "outputs": [
    {
     "data": {
      "text/html": [
       "<div>\n",
       "<style scoped>\n",
       "    .dataframe tbody tr th:only-of-type {\n",
       "        vertical-align: middle;\n",
       "    }\n",
       "\n",
       "    .dataframe tbody tr th {\n",
       "        vertical-align: top;\n",
       "    }\n",
       "\n",
       "    .dataframe thead th {\n",
       "        text-align: right;\n",
       "    }\n",
       "</style>\n",
       "<table border=\"1\" class=\"dataframe\">\n",
       "  <thead>\n",
       "    <tr style=\"text-align: right;\">\n",
       "      <th></th>\n",
       "      <th>Unnamed: 0</th>\n",
       "      <th>id_original_df</th>\n",
       "      <th>dialect</th>\n",
       "      <th>id_retrieved_df</th>\n",
       "      <th>text</th>\n",
       "      <th>preprocessed_text</th>\n",
       "    </tr>\n",
       "  </thead>\n",
       "  <tbody>\n",
       "    <tr>\n",
       "      <th>26</th>\n",
       "      <td>26</td>\n",
       "      <td>1154854668780154880</td>\n",
       "      <td>IQ</td>\n",
       "      <td>1154854668780154880</td>\n",
       "      <td>@yyyy43513689 بالمنصور محمدنه ياخذ سلڤيات🤨</td>\n",
       "      <td>بالمنصور محمدنه ياخذ</td>\n",
       "    </tr>\n",
       "    <tr>\n",
       "      <th>51</th>\n",
       "      <td>51</td>\n",
       "      <td>1160290300868382720</td>\n",
       "      <td>IQ</td>\n",
       "      <td>1160290300868382720</td>\n",
       "      <td>@Aber04631655 عيدك مبارك صحه وسلامه🤲🌹</td>\n",
       "      <td>عيدك مبارك صحه</td>\n",
       "    </tr>\n",
       "    <tr>\n",
       "      <th>155</th>\n",
       "      <td>155</td>\n",
       "      <td>1145069624054206464</td>\n",
       "      <td>IQ</td>\n",
       "      <td>1145069624054206464</td>\n",
       "      <td>@hanash_22 @Enpersoon سلملي عليها گلها ماعدنه☺️😉</td>\n",
       "      <td>سلملي عليها گلها</td>\n",
       "    </tr>\n",
       "    <tr>\n",
       "      <th>253</th>\n",
       "      <td>253</td>\n",
       "      <td>1133033721035141248</td>\n",
       "      <td>IQ</td>\n",
       "      <td>1133033721035141248</td>\n",
       "      <td>@Marwan79j @Abnalsdr_313 هسه عرفت ليش ماعلقت؟؟؟؟</td>\n",
       "      <td>هسه عرفت ليش</td>\n",
       "    </tr>\n",
       "    <tr>\n",
       "      <th>2498</th>\n",
       "      <td>2498</td>\n",
       "      <td>1045637028560490368</td>\n",
       "      <td>IQ</td>\n",
       "      <td>1045637028560490368</td>\n",
       "      <td>@matax94 شفت الفراغ شنو يسوي؟</td>\n",
       "      <td>شفت الفراغ شنو</td>\n",
       "    </tr>\n",
       "    <tr>\n",
       "      <th>...</th>\n",
       "      <td>...</td>\n",
       "      <td>...</td>\n",
       "      <td>...</td>\n",
       "      <td>...</td>\n",
       "      <td>...</td>\n",
       "      <td>...</td>\n",
       "    </tr>\n",
       "    <tr>\n",
       "      <th>455654</th>\n",
       "      <td>455654</td>\n",
       "      <td>229023529360834560</td>\n",
       "      <td>BH</td>\n",
       "      <td>229023529360834560</td>\n",
       "      <td>مفــنود وانا اموت فيك؛</td>\n",
       "      <td>مفــنود وانا اموت</td>\n",
       "    </tr>\n",
       "    <tr>\n",
       "      <th>455918</th>\n",
       "      <td>455918</td>\n",
       "      <td>998311513659129984</td>\n",
       "      <td>BH</td>\n",
       "      <td>998311513659129984</td>\n",
       "      <td>@sawsanomoush18 🤣🤣🤣وهو يمكن شكله قرد</td>\n",
       "      <td>يمكن شكله قرد</td>\n",
       "    </tr>\n",
       "    <tr>\n",
       "      <th>456002</th>\n",
       "      <td>456002</td>\n",
       "      <td>933623319819096064</td>\n",
       "      <td>BH</td>\n",
       "      <td>933623319819096064</td>\n",
       "      <td>🤣😜ترا انا وحده منهم https://t.co/8AmZ5vwXTg</td>\n",
       "      <td>انا وحده منهم</td>\n",
       "    </tr>\n",
       "    <tr>\n",
       "      <th>456567</th>\n",
       "      <td>456567</td>\n",
       "      <td>1048215299647065984</td>\n",
       "      <td>BH</td>\n",
       "      <td>1048215299647065984</td>\n",
       "      <td>@Maryam98131842 شلون تختارين اللي ينيكش؟</td>\n",
       "      <td>شلون تختارين اللي</td>\n",
       "    </tr>\n",
       "    <tr>\n",
       "      <th>458127</th>\n",
       "      <td>458127</td>\n",
       "      <td>1022125113121144832</td>\n",
       "      <td>BH</td>\n",
       "      <td>1022125113121144832</td>\n",
       "      <td>@bahiya_13 منو عمك يمكن اعرفه؟</td>\n",
       "      <td>منو عمك يمكن</td>\n",
       "    </tr>\n",
       "  </tbody>\n",
       "</table>\n",
       "<p>1570 rows × 6 columns</p>\n",
       "</div>"
      ],
      "text/plain": [
       "        Unnamed: 0       id_original_df dialect      id_retrieved_df  \\\n",
       "26              26  1154854668780154880      IQ  1154854668780154880   \n",
       "51              51  1160290300868382720      IQ  1160290300868382720   \n",
       "155            155  1145069624054206464      IQ  1145069624054206464   \n",
       "253            253  1133033721035141248      IQ  1133033721035141248   \n",
       "2498          2498  1045637028560490368      IQ  1045637028560490368   \n",
       "...            ...                  ...     ...                  ...   \n",
       "455654      455654   229023529360834560      BH   229023529360834560   \n",
       "455918      455918   998311513659129984      BH   998311513659129984   \n",
       "456002      456002   933623319819096064      BH   933623319819096064   \n",
       "456567      456567  1048215299647065984      BH  1048215299647065984   \n",
       "458127      458127  1022125113121144832      BH  1022125113121144832   \n",
       "\n",
       "                                                    text     preprocessed_text  \n",
       "26            @yyyy43513689 بالمنصور محمدنه ياخذ سلڤيات🤨  بالمنصور محمدنه ياخذ  \n",
       "51                 @Aber04631655 عيدك مبارك صحه وسلامه🤲🌹        عيدك مبارك صحه  \n",
       "155     @hanash_22 @Enpersoon سلملي عليها گلها ماعدنه☺️😉      سلملي عليها گلها  \n",
       "253     @Marwan79j @Abnalsdr_313 هسه عرفت ليش ماعلقت؟؟؟؟          هسه عرفت ليش  \n",
       "2498                       @matax94 شفت الفراغ شنو يسوي؟        شفت الفراغ شنو  \n",
       "...                                                  ...                   ...  \n",
       "455654                            مفــنود وانا اموت فيك؛     مفــنود وانا اموت  \n",
       "455918              @sawsanomoush18 🤣🤣🤣وهو يمكن شكله قرد         يمكن شكله قرد  \n",
       "456002       🤣😜ترا انا وحده منهم https://t.co/8AmZ5vwXTg         انا وحده منهم  \n",
       "456567          @Maryam98131842 شلون تختارين اللي ينيكش؟     شلون تختارين اللي  \n",
       "458127                    @bahiya_13 منو عمك يمكن اعرفه؟          منو عمك يمكن  \n",
       "\n",
       "[1570 rows x 6 columns]"
      ]
     },
     "execution_count": 91,
     "metadata": {},
     "output_type": "execute_result"
    }
   ],
   "source": [
    "df[df['preprocessed_text'].str.split().str.len() < 4]"
   ]
  },
  {
   "cell_type": "markdown",
   "id": "c10c8f8e",
   "metadata": {},
   "source": [
    "### so the lowest sentence length is 3, that's good"
   ]
  },
  {
   "cell_type": "code",
   "execution_count": 94,
   "id": "3d748d1d",
   "metadata": {},
   "outputs": [],
   "source": [
    "df.to_csv(r'C:\\Users\\midom\\OneDrive\\Desktop\\aim tech\\2_preprocessed_data.csv')"
   ]
  },
  {
   "cell_type": "code",
   "execution_count": 95,
   "id": "2e294e41",
   "metadata": {},
   "outputs": [],
   "source": [
    "testing = pd.read_csv(r'C:\\Users\\midom\\OneDrive\\Desktop\\aim tech\\2_preprocessed_data.csv')"
   ]
  },
  {
   "cell_type": "code",
   "execution_count": 96,
   "id": "000402e0",
   "metadata": {},
   "outputs": [
    {
     "data": {
      "text/html": [
       "<div>\n",
       "<style scoped>\n",
       "    .dataframe tbody tr th:only-of-type {\n",
       "        vertical-align: middle;\n",
       "    }\n",
       "\n",
       "    .dataframe tbody tr th {\n",
       "        vertical-align: top;\n",
       "    }\n",
       "\n",
       "    .dataframe thead th {\n",
       "        text-align: right;\n",
       "    }\n",
       "</style>\n",
       "<table border=\"1\" class=\"dataframe\">\n",
       "  <thead>\n",
       "    <tr style=\"text-align: right;\">\n",
       "      <th></th>\n",
       "      <th>Unnamed: 0</th>\n",
       "      <th>Unnamed: 0.1</th>\n",
       "      <th>id_original_df</th>\n",
       "      <th>dialect</th>\n",
       "      <th>id_retrieved_df</th>\n",
       "      <th>text</th>\n",
       "      <th>preprocessed_text</th>\n",
       "    </tr>\n",
       "  </thead>\n",
       "  <tbody>\n",
       "    <tr>\n",
       "      <th>0</th>\n",
       "      <td>0</td>\n",
       "      <td>0</td>\n",
       "      <td>1175358310087892992</td>\n",
       "      <td>IQ</td>\n",
       "      <td>1175358310087892992</td>\n",
       "      <td>@Nw8ieJUwaCAAreT لكن بالنهاية .. ينتفض .. يغير .</td>\n",
       "      <td>لكن بالنهاية ينتفض يغير</td>\n",
       "    </tr>\n",
       "    <tr>\n",
       "      <th>1</th>\n",
       "      <td>1</td>\n",
       "      <td>1</td>\n",
       "      <td>1175416117793349632</td>\n",
       "      <td>IQ</td>\n",
       "      <td>1175416117793349632</td>\n",
       "      <td>@7zNqXP0yrODdRjK يعني هذا محسوب على البشر .. ح...</td>\n",
       "      <td>يعني هذا محسوب على البشر حيونه ووحشيه وتطلبون ...</td>\n",
       "    </tr>\n",
       "    <tr>\n",
       "      <th>2</th>\n",
       "      <td>2</td>\n",
       "      <td>2</td>\n",
       "      <td>1175450108898565888</td>\n",
       "      <td>IQ</td>\n",
       "      <td>1175450108898565888</td>\n",
       "      <td>@KanaanRema مبين من كلامه خليجي</td>\n",
       "      <td>مبين من كلامه خليجي</td>\n",
       "    </tr>\n",
       "    <tr>\n",
       "      <th>3</th>\n",
       "      <td>3</td>\n",
       "      <td>3</td>\n",
       "      <td>1175471073770573824</td>\n",
       "      <td>IQ</td>\n",
       "      <td>1175471073770573824</td>\n",
       "      <td>@HAIDER76128900 يسلملي مرورك وروحك الحلوه💐</td>\n",
       "      <td>يسلملي مرورك وروحك الحلوه</td>\n",
       "    </tr>\n",
       "    <tr>\n",
       "      <th>4</th>\n",
       "      <td>4</td>\n",
       "      <td>4</td>\n",
       "      <td>1175496913145217024</td>\n",
       "      <td>IQ</td>\n",
       "      <td>1175496913145217024</td>\n",
       "      <td>@hmo2406 وين هل الغيبه  اخ محمد 🌸🌺</td>\n",
       "      <td>وين هل الغيبه اخ محمد</td>\n",
       "    </tr>\n",
       "  </tbody>\n",
       "</table>\n",
       "</div>"
      ],
      "text/plain": [
       "   Unnamed: 0  Unnamed: 0.1       id_original_df dialect      id_retrieved_df  \\\n",
       "0           0             0  1175358310087892992      IQ  1175358310087892992   \n",
       "1           1             1  1175416117793349632      IQ  1175416117793349632   \n",
       "2           2             2  1175450108898565888      IQ  1175450108898565888   \n",
       "3           3             3  1175471073770573824      IQ  1175471073770573824   \n",
       "4           4             4  1175496913145217024      IQ  1175496913145217024   \n",
       "\n",
       "                                                text  \\\n",
       "0   @Nw8ieJUwaCAAreT لكن بالنهاية .. ينتفض .. يغير .   \n",
       "1  @7zNqXP0yrODdRjK يعني هذا محسوب على البشر .. ح...   \n",
       "2                    @KanaanRema مبين من كلامه خليجي   \n",
       "3         @HAIDER76128900 يسلملي مرورك وروحك الحلوه💐   \n",
       "4                 @hmo2406 وين هل الغيبه  اخ محمد 🌸🌺   \n",
       "\n",
       "                                   preprocessed_text  \n",
       "0                            لكن بالنهاية ينتفض يغير  \n",
       "1  يعني هذا محسوب على البشر حيونه ووحشيه وتطلبون ...  \n",
       "2                                مبين من كلامه خليجي  \n",
       "3                          يسلملي مرورك وروحك الحلوه  \n",
       "4                              وين هل الغيبه اخ محمد  "
      ]
     },
     "execution_count": 96,
     "metadata": {},
     "output_type": "execute_result"
    }
   ],
   "source": [
    "testing.head()"
   ]
  },
  {
   "cell_type": "code",
   "execution_count": 97,
   "id": "ef2f3d1e",
   "metadata": {},
   "outputs": [
    {
     "data": {
      "text/plain": [
       "Unnamed: 0           0\n",
       "Unnamed: 0.1         0\n",
       "id_original_df       0\n",
       "dialect              0\n",
       "id_retrieved_df      0\n",
       "text                 0\n",
       "preprocessed_text    0\n",
       "dtype: int64"
      ]
     },
     "execution_count": 97,
     "metadata": {},
     "output_type": "execute_result"
    }
   ],
   "source": [
    "testing.isnull().sum()"
   ]
  },
  {
   "cell_type": "code",
   "execution_count": 98,
   "id": "e41865b5",
   "metadata": {},
   "outputs": [
    {
     "data": {
      "text/html": [
       "<div>\n",
       "<style scoped>\n",
       "    .dataframe tbody tr th:only-of-type {\n",
       "        vertical-align: middle;\n",
       "    }\n",
       "\n",
       "    .dataframe tbody tr th {\n",
       "        vertical-align: top;\n",
       "    }\n",
       "\n",
       "    .dataframe thead th {\n",
       "        text-align: right;\n",
       "    }\n",
       "</style>\n",
       "<table border=\"1\" class=\"dataframe\">\n",
       "  <thead>\n",
       "    <tr style=\"text-align: right;\">\n",
       "      <th></th>\n",
       "      <th>Unnamed: 0</th>\n",
       "      <th>Unnamed: 0.1</th>\n",
       "      <th>id_original_df</th>\n",
       "      <th>dialect</th>\n",
       "      <th>id_retrieved_df</th>\n",
       "      <th>text</th>\n",
       "      <th>preprocessed_text</th>\n",
       "    </tr>\n",
       "  </thead>\n",
       "  <tbody>\n",
       "  </tbody>\n",
       "</table>\n",
       "</div>"
      ],
      "text/plain": [
       "Empty DataFrame\n",
       "Columns: [Unnamed: 0, Unnamed: 0.1, id_original_df, dialect, id_retrieved_df, text, preprocessed_text]\n",
       "Index: []"
      ]
     },
     "execution_count": 98,
     "metadata": {},
     "output_type": "execute_result"
    }
   ],
   "source": [
    "testing[testing['preprocessed_text'] == \"\"]"
   ]
  },
  {
   "cell_type": "code",
   "execution_count": null,
   "id": "876ba670",
   "metadata": {},
   "outputs": [],
   "source": []
  }
 ],
 "metadata": {
  "kernelspec": {
   "display_name": "Python 3 (ipykernel)",
   "language": "python",
   "name": "python3"
  },
  "language_info": {
   "codemirror_mode": {
    "name": "ipython",
    "version": 3
   },
   "file_extension": ".py",
   "mimetype": "text/x-python",
   "name": "python",
   "nbconvert_exporter": "python",
   "pygments_lexer": "ipython3",
   "version": "3.9.7"
  }
 },
 "nbformat": 4,
 "nbformat_minor": 5
}
